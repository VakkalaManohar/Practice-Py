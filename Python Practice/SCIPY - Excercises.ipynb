{
 "cells": [
  {
   "cell_type": "code",
   "execution_count": 2,
   "metadata": {
    "collapsed": false
   },
   "outputs": [
    {
     "data": {
      "image/png": "[encoded data removed]",
      "text/plain": [
       "<matplotlib.figure.Figure at 0x409f048>"
      ]
     },
     "metadata": {},
     "output_type": "display_data"
    }
   ],
   "source": [
    "#SCIPY 2015 - Excercise 2\n",
    "\n",
    "import numpy as np\n",
    "import matplotlib.pyplot as pl\n",
    "X=np.linspace(0,2*np.pi,101)\n",
    "Y=np.sin(X)\n",
    "\n",
    "#Derivatives\n",
    "dy = Y[1:] - Y[:-1]\n",
    "dx = X[1:] - X[:-1]\n",
    "dy_dx = dy/dx\n",
    "dy_dx\n",
    "centers_x = (X[1:]+X[:-1])/2\n",
    "\n",
    "%matplotlib inline\n",
    "pl.subplot(2,2,1)\n",
    "pl.plot(X,Y)\n",
    "pl.title(\"Plot of X and Y\")\n",
    "pl.subplot(2,2,2)\n",
    "pl.plot(centers_x,dy_dx,'rx',centers_x,np.cos(centers_x),'b-')\n",
    "pl.title(r\"$\\rm{Derivative\\ of}\\ sin(x)$\")\n",
    "\n",
    "#Trapezoidal Rule Integration\n",
    "avg_height=(Y[1:]+Y[:-1])/2.0\n",
    "int_sin = np.cumsum(dx*avg_height)\n",
    "\n",
    "closed_form = -np.cos(X)+np.cos(0)\n",
    "pl.subplot(2,2,3)\n",
    "pl.plot(X[1:],int_sin,'rx',X,closed_form,'b-')\n",
    "pl.legend(('numberical','actual'))\n",
    "pl.title(\"int, sin(x), dx\")\n",
    "\n",
    "pl.subplot(2,2,4)\n",
    "pl.plot(X,closed_form)\n",
    "\n",
    "pl.show()"
   ]
  },
  {
   "cell_type": "markdown",
   "metadata": {},
   "source": [
    "dy0 = y1-y0\n",
    "dy1 = y2-y1\n",
    "dy2 = y3-y3"
   ]
  },
  {
   "cell_type": "code",
   "execution_count": 3,
   "metadata": {
    "collapsed": false
   },
   "outputs": [
    {
     "name": "stdout",
     "output_type": "stream",
     "text": [
      "13\n",
      "[10 11 12 13]\n",
      "(2, 4)\n",
      "8\n",
      "2\n",
      "[[ 0  1  2  3]\n",
      " [10 11 12 -1]]\n",
      "[[ 0  1  2  3  4  5]\n",
      " [10 11 12 13 14 15]\n",
      " [20 21 22 23 24 25]\n",
      " [30 31 32 33 34 35]\n",
      " [40 41 42 43 44 45]\n",
      " [50 51 52 53 54 55]]\n",
      "[3 4]\n",
      "[[44 45]\n",
      " [54 55]]\n",
      "[ 2 12 22 32 42 52]\n",
      "[[20 23]\n",
      " [40 43]]\n",
      "[[10 13]\n",
      " [20 23]\n",
      " [30 33]\n",
      " [40 43]\n",
      " [50 53]]\n",
      "[[12 15]\n",
      " [22 25]\n",
      " [32 35]\n",
      " [42 45]\n",
      " [52 55]]\n"
     ]
    }
   ],
   "source": [
    "#SCIPY 2015 - Practice\n",
    "a = np.array([[0,1,2,3],[10,11,12,13]])\n",
    "print(a[1,3])\n",
    "print(a[1])\n",
    "print(a.shape)\n",
    "print(a.size)\n",
    "print(a.ndim)\n",
    "a[1,3]=-1\n",
    "print(a)\n",
    "\n",
    "\n",
    "b = np.array([[0,1,2,3,4,5],[10,11,12,13,14,15],[20,21,22,23,24,25],[30,31,32,33,34,35],[40,41,42,43,44,45],[50,51,52,53,54,55]])\n",
    "print(b)\n",
    "print(b[0,3:5])\n",
    "print(b[4:,4:])\n",
    "print(b[:,2])\n",
    "\n",
    "#strides\n",
    "print(b[2::2,::3])\n",
    "print(b[1::1,::3])\n",
    "print(b[1::1,2::3])\n",
    "\n",
    "b="
   ]
  },
  {
   "cell_type": "code",
   "execution_count": 5,
   "metadata": {
    "collapsed": false
   },
   "outputs": [
    {
     "name": "stdout",
     "output_type": "stream",
     "text": [
      "[[ 0  1  2  3]\n",
      " [ 4  5  6  7]\n",
      " [ 8  9 10 11]\n",
      " [12 13 14 15]\n",
      " [16 17 18 19]]\n",
      "[[ 0  1  2  3]\n",
      " [ 4  5  6  7]\n",
      " [ 8  9 10 11]\n",
      " [12 13 14 15]\n",
      " [16 17 18 19]]\n"
     ]
    }
   ],
   "source": [
    "c=np.arange(20)\n",
    "d = c.copy()\n",
    "c.shape=5,4\n",
    "print(c)\n",
    "d.shape = 5,-1\n",
    "print(d)"
   ]
  },
  {
   "cell_type": "code",
   "execution_count": 9,
   "metadata": {
    "collapsed": false
   },
   "outputs": [
    {
     "name": "stdout",
     "output_type": "stream",
     "text": [
      "[[  1000 100000   1000   1000]\n",
      " [     4      5      6      7]\n",
      " [     8      9     10     11]\n",
      " [    12     13     14     15]\n",
      " [    16     17     18     19]]\n",
      "[[  1000 100000   1000   1000]\n",
      " [     4      5      6      7]\n",
      " [     8      9     10     11]\n",
      " [    12     13     14     15]\n",
      " [    16     17     18     19]]\n"
     ]
    }
   ],
   "source": [
    "e = d\n",
    "e[0,1]=100000\n",
    "print(e)\n",
    "print(d)"
   ]
  },
  {
   "cell_type": "code",
   "execution_count": 18,
   "metadata": {
    "collapsed": false
   },
   "outputs": [
    {
     "name": "stdout",
     "output_type": "stream",
     "text": [
      "[[ 5  6]\n",
      " [ 9 10]]\n",
      "[[100000   1000]\n",
      " [     5      6]]\n",
      "[[  5.00025000e+04   5.03000000e+02]\n",
      " [  7.00000000e+00   8.00000000e+00]]\n",
      "[[  1000 100000   1000   1000]\n",
      " [     4  50002    503      7]\n",
      " [     8      7      8     11]\n",
      " [    12     13     14     15]\n",
      " [    16     17     18     19]]\n"
     ]
    }
   ],
   "source": [
    "f= d[1:3,1:3]\n",
    "g= d[:2,1:3]\n",
    "print(f)\n",
    "print(g)\n",
    "h= (f+g)/2.0\n",
    "print(h)\n",
    "d[1:3,1:3] = h\n",
    "print(d)"
   ]
  },
  {
   "cell_type": "code",
   "execution_count": 33,
   "metadata": {
    "collapsed": false
   },
   "outputs": [
    {
     "data": {
      "text/plain": [
       "[[1.0, 2.0, 3.0, 4.0, 5.0], [6.0, 7.0, 8.0, 9.0, 10.0]]"
      ]
     },
     "execution_count": 33,
     "metadata": {},
     "output_type": "execute_result"
    }
   ],
   "source": [
    "file = open(\"myfile.txt\")\n",
    "\n",
    "data = []\n",
    "for line in file:\n",
    "    fields = line.split()\n",
    "    row_data = [float(x) for x in fields]\n",
    "    data.append(row_data)\n",
    "\n",
    "data"
   ]
  },
  {
   "cell_type": "code",
   "execution_count": 39,
   "metadata": {
    "collapsed": false
   },
   "outputs": [
    {
     "data": {
      "text/plain": [
       "array([[  1.,   2.,   3.,   4.,   5.],\n",
       "       [  6.,   7.,   8.,   9.,  10.]])"
      ]
     },
     "execution_count": 39,
     "metadata": {},
     "output_type": "execute_result"
    }
   ],
   "source": [
    "myfile = np.loadtxt(\"myfile.txt\")\n",
    "myfile"
   ]
  },
  {
   "cell_type": "code",
   "execution_count": 40,
   "metadata": {
    "collapsed": false
   },
   "outputs": [
    {
     "data": {
      "text/plain": [
       "array([[ 1,  2,  3,  4,  5],\n",
       "       [ 6,  7,  8,  9, 10]])"
      ]
     },
     "execution_count": 40,
     "metadata": {},
     "output_type": "execute_result"
    }
   ],
   "source": [
    "myfile = np.loadtxt(\"myfile.txt\", dtype=int)\n",
    "myfile"
   ]
  },
  {
   "cell_type": "code",
   "execution_count": 49,
   "metadata": {
    "collapsed": false
   },
   "outputs": [
    {
     "data": {
      "text/plain": [
       "array([[   1,    1, 2000,   30],\n",
       "       [   2,    1, 2000,   41],\n",
       "       [   4,    1, 2000,   55],\n",
       "       [   5,    1, 2000,   78],\n",
       "       [   6,    1, 2000,  134],\n",
       "       [   7,    1, 2000,   42]])"
      ]
     },
     "execution_count": 49,
     "metadata": {},
     "output_type": "execute_result"
    }
   ],
   "source": [
    "myfile = np.loadtxt(\"myfile2.txt\",dtype=int,comments=\"%\", delimiter=\",\", skiprows=1,usecols=(0,1,2,4))\n",
    "myfile"
   ]
  },
  {
   "cell_type": "code",
   "execution_count": null,
   "metadata": {
    "collapsed": true
   },
   "outputs": [],
   "source": []
  },
  {
   "cell_type": "code",
   "execution_count": 56,
   "metadata": {
    "collapsed": false
   },
   "outputs": [
    {
     "name": "stdout",
     "output_type": "stream",
     "text": [
      "[ 0 10 20 30 40 50 60 70]\n"
     ]
    },
    {
     "data": {
      "text/plain": [
       "array([10, 20, 50])"
      ]
     },
     "execution_count": 56,
     "metadata": {},
     "output_type": "execute_result"
    }
   ],
   "source": [
    "e = np.arange(0,80,10) \n",
    "print(e)\n",
    "indices=[1,2,-3]\n",
    "y = e[indices]\n",
    "y\n"
   ]
  },
  {
   "cell_type": "code",
   "execution_count": 61,
   "metadata": {
    "collapsed": false
   },
   "outputs": [
    {
     "name": "stdout",
     "output_type": "stream",
     "text": [
      "[False  True  True False False  True False False]\n",
      "[ True  True  True False False False False False]\n"
     ]
    }
   ],
   "source": [
    "mask = np.array([0,1,1,0,0,1,0,0], dtype=bool)\n",
    "mask2 = e<30\n",
    "print(mask)\n",
    "print(mask2)"
   ]
  },
  {
   "cell_type": "code",
   "execution_count": 64,
   "metadata": {
    "collapsed": false
   },
   "outputs": [
    {
     "data": {
      "text/plain": [
       "array([10, 20, 50])"
      ]
     },
     "execution_count": 64,
     "metadata": {},
     "output_type": "execute_result"
    }
   ],
   "source": [
    "#conditional creating of mask\n",
    "y = e[mask]\n",
    "y"
   ]
  },
  {
   "cell_type": "code",
   "execution_count": 89,
   "metadata": {
    "collapsed": false
   },
   "outputs": [
    {
     "name": "stderr",
     "output_type": "stream",
     "text": [
      "C:\\Anaconda3\\lib\\site-packages\\ipykernel\\__main__.py:7: VisibleDeprecationWarning: boolean index did not match indexed array along dimension 0; dimension is 21 but corresponding boolean dimension is 8\n"
     ]
    },
    {
     "data": {
      "image/png": "[encoded data removed]",
      "text/plain": [
       "<matplotlib.figure.Figure at 0x7db9160>"
      ]
     },
     "metadata": {},
     "output_type": "display_data"
    }
   ],
   "source": [
    "x = np.linspace(0,2*np.pi,21)\n",
    "z= np.sin(x)\n",
    "mask = z >=0\n",
    "mask1 = z <0\n",
    "pl.plot(x,z)\n",
    "pl.plot(x[mask],z[mask],\"ro\")\n",
    "pl.plot(x[mask2],z[mask2],\"g+\")\n",
    "pl.show()"
   ]
  },
  {
   "cell_type": "code",
   "execution_count": 88,
   "metadata": {
    "collapsed": false
   },
   "outputs": [
    {
     "data": {
      "image/png": "[encoded data removed]",
      "text/plain": [
       "<matplotlib.figure.Figure at 0x8ef8e48>"
      ]
     },
     "metadata": {},
     "output_type": "display_data"
    }
   ],
   "source": [
    "mask = (z >=0) & (x<=np.pi/4)\n",
    "pl.plot(x,z)\n",
    "pl.plot(x[mask],z[mask],\"ro\")\n",
    "pl.show()"
   ]
  },
  {
   "cell_type": "code",
   "execution_count": 119,
   "metadata": {
    "collapsed": false
   },
   "outputs": [
    {
     "data": {
      "text/plain": [
       "array([ 2, 22, 52])"
      ]
     },
     "execution_count": 119,
     "metadata": {},
     "output_type": "execute_result"
    }
   ],
   "source": [
    "##### Fancy Indexing in 2-D\n",
    "\n",
    "a = np.array([ (0,  1,  2,  3,  4,  5), \n",
    "           (10, 11, 12, 13, 14, 15),\n",
    "           (20, 21, 22, 23, 24, 25),\n",
    "           (30, 31, 32, 33, 34, 35),\n",
    "           (40, 41, 42, 43, 44, 45),\n",
    "           (50, 51, 52, 53, 54, 55)])\n",
    "\n",
    "mask = np.array([1,0,1,0,0,1], dtype=bool)\n",
    "a[mask,2]"
   ]
  },
  {
   "cell_type": "code",
   "execution_count": 121,
   "metadata": {
    "collapsed": false
   },
   "outputs": [
    {
     "data": {
      "text/plain": [
       "array([30, 40, 50])"
      ]
     },
     "execution_count": 121,
     "metadata": {},
     "output_type": "execute_result"
    }
   ],
   "source": [
    "mask = a[:,0]>20\n",
    "a[mask,0]"
   ]
  },
  {
   "cell_type": "code",
   "execution_count": 127,
   "metadata": {
    "collapsed": false
   },
   "outputs": [
    {
     "name": "stdout",
     "output_type": "stream",
     "text": [
      "[21 22 23 24 25 30 31 32 33 34 35 40 41 42 43 44 45 50 51 52 53 54 55]\n",
      "[20 30 40 50]\n",
      "[21 31 41 51]\n"
     ]
    }
   ],
   "source": [
    "mask = a[:]>20\n",
    "print(a[mask])\n",
    "print(a[mask[:,1],0])\n",
    "print(a[mask[:,1],1])"
   ]
  },
  {
   "cell_type": "code",
   "execution_count": null,
   "metadata": {
    "collapsed": true
   },
   "outputs": [],
   "source": []
  }
 ],
 "metadata": {
  "anaconda-cloud": {},
  "kernelspec": {
   "display_name": "Python [conda root]",
   "language": "python",
   "name": "conda-root-py"
  },
  "language_info": {
   "codemirror_mode": {
    "name": "ipython",
    "version": 2
   },
   "file_extension": ".py",
   "mimetype": "text/x-python",
   "name": "python",
   "nbconvert_exporter": "python",
   "pygments_lexer": "ipython2",
   "version": "2.7.12"
  }
 },
 "nbformat": 4,
 "nbformat_minor": 2
}
