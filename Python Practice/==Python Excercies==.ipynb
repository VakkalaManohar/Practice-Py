{
 "cells": [
  {
   "cell_type": "markdown",
   "metadata": {},
   "source": [
    "# Python Excercises\n",
    "\n",
    "https://github.com/zhiwehu/Python-programming-exercises/blob/master/100%2B%20Python%20challenging%20programming%20exercises.txt"
   ]
  },
  {
   "cell_type": "markdown",
   "metadata": {},
   "source": [
    "(1) Write a program which will find all such numbers which are divisible by 7 but are not a multiple of 5, between 2000 and 3200 (both included).\n",
    "The numbers obtained should be printed in a comma-separated sequence on a single line.\n",
    "\n",
    "<b>Hints:</b> \n",
    "Consider use range(#begin, #end) method"
   ]
  },
  {
   "cell_type": "code",
   "execution_count": 1,
   "metadata": {
    "collapsed": false
   },
   "outputs": [
    {
     "name": "stdout",
     "output_type": "stream",
     "text": [
      "[2002, 2009, 2016, 2023, 2037, 2044, 2051, 2058, 2072, 2079, 2086, 2093, 2107, 2114, 2121, 2128, 2142, 2149, 2156, 2163, 2177, 2184, 2191, 2198, 2212, 2219, 2226, 2233, 2247, 2254, 2261, 2268, 2282, 2289, 2296, 2303, 2317, 2324, 2331, 2338, 2352, 2359, 2366, 2373, 2387, 2394, 2401, 2408, 2422, 2429, 2436, 2443, 2457, 2464, 2471, 2478, 2492, 2499, 2506, 2513, 2527, 2534, 2541, 2548, 2562, 2569, 2576, 2583, 2597, 2604, 2611, 2618, 2632, 2639, 2646, 2653, 2667, 2674, 2681, 2688, 2702, 2709, 2716, 2723, 2737, 2744, 2751, 2758, 2772, 2779, 2786, 2793, 2807, 2814, 2821, 2828, 2842, 2849, 2856, 2863, 2877, 2884, 2891, 2898, 2912, 2919, 2926, 2933, 2947, 2954, 2961, 2968, 2982, 2989, 2996, 3003, 3017, 3024, 3031, 3038, 3052, 3059, 3066, 3073, 3087, 3094, 3101, 3108, 3122, 3129, 3136, 3143, 3157, 3164, 3171, 3178, 3192, 3199]\n"
     ]
    },
    {
     "data": {
      "text/plain": [
       "list"
      ]
     },
     "execution_count": 1,
     "metadata": {},
     "output_type": "execute_result"
    }
   ],
   "source": [
    "output=[]\n",
    "for j in range(2000,3200):\n",
    "    if j%7 ==0 and j%5 != 0:\n",
    "        output.append(j)\n",
    "\n",
    "print(output)\n",
    "type(output)"
   ]
  },
  {
   "cell_type": "markdown",
   "metadata": {},
   "source": [
    "(2) Write a program which can compute the factorial of a given numbers.\n",
    "The results should be printed in a comma-separated sequence on a single line.\n",
    "Suppose the following input is supplied to the program:\n",
    "8\n",
    "Then, the output should be:\n",
    "40320\n",
    "\n",
    "Hints:\n",
    "In case of input data being supplied to the question, it should be assumed to be a console input.\n",
    "\n"
   ]
  },
  {
   "cell_type": "code",
   "execution_count": 2,
   "metadata": {
    "collapsed": false
   },
   "outputs": [
    {
     "name": "stdout",
     "output_type": "stream",
     "text": [
      "40320\n"
     ]
    }
   ],
   "source": [
    "def Factorial(i):\n",
    "    j=1\n",
    "    while (i!=1):\n",
    "        j = j*(i)\n",
    "        i = i -1\n",
    "    return j\n",
    "\n",
    "print(Factorial(8))"
   ]
  },
  {
   "cell_type": "code",
   "execution_count": 3,
   "metadata": {
    "collapsed": false
   },
   "outputs": [
    {
     "name": "stdout",
     "output_type": "stream",
     "text": [
      "3\n",
      "6\n"
     ]
    }
   ],
   "source": [
    "def fact(x):\n",
    "    if x == 0:\n",
    "        return 1\n",
    "    return x * fact (x-1)\n",
    "\n",
    "x = int(input())\n",
    "print(fact(x))"
   ]
  },
  {
   "cell_type": "code",
   "execution_count": 4,
   "metadata": {
    "collapsed": false
   },
   "outputs": [
    {
     "data": {
      "text/plain": [
       "4"
      ]
     },
     "execution_count": 4,
     "metadata": {},
     "output_type": "execute_result"
    }
   ],
   "source": [
    "pow(2,2)"
   ]
  },
  {
   "cell_type": "markdown",
   "metadata": {
    "collapsed": true
   },
   "source": [
    "(3) With a given integral number n, write a program to generate a dictionary that contains (i, i*i) such that is an integral number between 1 and n (both included). and then the program should print the dictionary. \n",
    "Suppose the following input is supplied to the program: \n",
    "8 \n",
    "Then, the output should be: \n",
    "{1: 1, 2: 4, 3: 9, 4: 16, 5: 25, 6: 36, 7: 49, 8: 64} \n",
    " \n",
    " \n",
    "Hints: \n",
    "In case of input data being supplied to the question, it should be assumed to be a console input. \n",
    "Consider use dict() \n"
   ]
  },
  {
   "cell_type": "code",
   "execution_count": 1,
   "metadata": {
    "collapsed": false
   },
   "outputs": [
    {
     "name": "stdout",
     "output_type": "stream",
     "text": [
      "3\n",
      "<type 'dict'>\n"
     ]
    },
    {
     "data": {
      "text/plain": [
       "{1: 1, 2: 4, 3: 9}"
      ]
     },
     "execution_count": 1,
     "metadata": {},
     "output_type": "execute_result"
    }
   ],
   "source": [
    "\n",
    "def IntegralNum(x):\n",
    "    a ={}\n",
    "    while (x!=0):\n",
    "        a[x]=pow(x,2)\n",
    "        x -= 1\n",
    "    print(type(a))\n",
    "    return a\n",
    "    \n",
    "\n",
    "IntegralNum(input())"
   ]
  },
  {
   "cell_type": "code",
   "execution_count": 6,
   "metadata": {
    "collapsed": false
   },
   "outputs": [
    {
     "name": "stdout",
     "output_type": "stream",
     "text": [
      "3\n",
      "{1: 1, 2: 4, 3: 9}\n"
     ]
    }
   ],
   "source": [
    "n = int(input())\n",
    "a= {}\n",
    "for i in range(1,n+1):\n",
    "    a[i]=pow(i,2)\n",
    "print(a)"
   ]
  },
  {
   "cell_type": "markdown",
   "metadata": {},
   "source": [
    "(4) Write a program which accepts a sequence of comma-separated numbers from console and generate a list and a tuple which contains every number. \n",
    "Suppose the following input is supplied to the program: \n",
    "34,67,55,33,12,98 \n",
    "Then, the output should be: \n",
    "['34', '67', '55', '33', '12', '98'] \n",
    "('34', '67', '55', '33', '12', '98') \n",
    " \n",
    " \n",
    "Hints: \n",
    "In case of input data being supplied to the question, it should be assumed to be a console input. \n",
    "tuple() method can convert list to tuple \n"
   ]
  },
  {
   "cell_type": "code",
   "execution_count": 8,
   "metadata": {
    "collapsed": false
   },
   "outputs": [
    {
     "name": "stdout",
     "output_type": "stream",
     "text": [
      "1,2,3,4,5\n",
      "(1, 2, 3, 4, 5)\n",
      "[1, 2, 3, 4, 5]\n"
     ]
    }
   ],
   "source": [
    "a = tuple(input())\n",
    "b = list(a)\n",
    "print(a)\n",
    "print(b)"
   ]
  },
  {
   "cell_type": "markdown",
   "metadata": {},
   "source": [
    "(5) Define a class which has at least two methods: \n",
    "getString: to get a string from console input \n",
    "printString: to print the string in upper case. \n",
    "Also please include simple test function to test the class methods. \n",
    " \n",
    " \n",
    "Hints: \n",
    " Use __init__ method to construct some parameters \n"
   ]
  },
  {
   "cell_type": "code",
   "execution_count": 2,
   "metadata": {
    "collapsed": false
   },
   "outputs": [
    {
     "name": "stdout",
     "output_type": "stream",
     "text": [
      "\"Manohar\"\n",
      "MANOHAR\n"
     ]
    }
   ],
   "source": [
    "class InOutString(object):\n",
    "    def __init__(self):\n",
    "        self.s = \"\"\n",
    "    \n",
    "    def getString(self):\n",
    "        self.s = str(input())\n",
    "    \n",
    "    def printString(self):\n",
    "        print self.s.upper()\n",
    "    \n",
    "\n",
    "strObj = InOutString()\n",
    "strObj.getString()\n",
    "strObj.printString()\n",
    "    "
   ]
  },
  {
   "cell_type": "markdown",
   "metadata": {
    "collapsed": true
   },
   "source": [
    "(6) Write a program that calculates and prints the value according to the given formula: \n",
    "Q = Square root of [(2 * C * D)/H] \n",
    " Following are the fixed values of C and H: \n",
    " C is 50. H is 30. \n",
    " D is the variable whose values should be input to your program in a comma-separated sequence. \n",
    " Example \n",
    " Let us assume the following comma separated input sequence is given to the program: \n",
    " 100,150,180 \n",
    " The output of the program should be: \n",
    " 18,22,24 \n",
    "\n",
    "Hints: \n",
    " If the output received is in decimal form, it should be rounded off to its nearest value (for example, if the output received is 26.0, it should be printed as 26) \n",
    " In case of input data being supplied to the question, it should be assumed to be a console input.  \n"
   ]
  },
  {
   "cell_type": "code",
   "execution_count": 4,
   "metadata": {
    "collapsed": false,
    "scrolled": true
   },
   "outputs": [
    {
     "name": "stdout",
     "output_type": "stream",
     "text": [
      "'100,150,180'\n",
      "18\n",
      "22\n",
      "24\n"
     ]
    }
   ],
   "source": [
    "def Formula(I):\n",
    "    import math\n",
    "    [C,H]=[50,30]\n",
    "    I = str.split(I,',')\n",
    "    for D in I:\n",
    "        Q = math.sqrt((2 * C * int(D))/H)\n",
    "        print(int(round(Q)))\n",
    "\n",
    "Formula(input())"
   ]
  },
  {
   "cell_type": "code",
   "execution_count": 16,
   "metadata": {
    "collapsed": false
   },
   "outputs": [
    {
     "name": "stdout",
     "output_type": "stream",
     "text": [
      "100,150,180\n",
      "[18, 22, 24]\n"
     ]
    }
   ],
   "source": [
    "import math\n",
    "[C,H]=[50,30]\n",
    "Output = []\n",
    "items = [x for x in raw_input().split(',')]\n",
    "for D in items:\n",
    "    Output.append(int(round(math.sqrt((2 * C * int(D))/H))))\n",
    "\n",
    "print(Output)\n",
    "\n"
   ]
  },
  {
   "cell_type": "markdown",
   "metadata": {
    "collapsed": true
   },
   "source": [
    "(7) Write a program which takes 2 digits, X,Y as input and generates a 2-dimensional array. The element value in the i-th row and j-th column of the array should be i*j. \n",
    "Note: i=0,1.., X-1; j=0,1,¡­Y-1. \n",
    "Example \n",
    "Suppose the following inputs are given to the program: \n",
    "3,5 \n",
    "Then, the output of the program should be: \n",
    "[[0, 0, 0, 0, 0], [0, 1, 2, 3, 4], [0, 2, 4, 6, 8]]  \n",
    " \n",
    "Hints: \n",
    "Note: In case of input data being supplied to the question, it should be assumed to be a console input in a comma-separated form. \n"
   ]
  },
  {
   "cell_type": "code",
   "execution_count": 29,
   "metadata": {
    "collapsed": false
   },
   "outputs": [
    {
     "name": "stdout",
     "output_type": "stream",
     "text": [
      "3,5\n"
     ]
    },
    {
     "data": {
      "text/plain": [
       "[[0, 0, 0, 0, 0], [0, 1, 2, 3, 4], [0, 2, 4, 6, 8]]"
      ]
     },
     "execution_count": 29,
     "metadata": {},
     "output_type": "execute_result"
    }
   ],
   "source": [
    "[r,c] = [int(x) for x in raw_input().split(',')]\n",
    "a = [ [0 for col in range(c)] for row in range(r)]\n",
    "for row in range(r):\n",
    "    for col in range(c):\n",
    "        a[row][col] = row*col\n",
    "a"
   ]
  },
  {
   "cell_type": "code",
   "execution_count": 21,
   "metadata": {
    "collapsed": false
   },
   "outputs": [
    {
     "data": {
      "text/plain": [
       "[0, 1, 2, 3]"
      ]
     },
     "execution_count": 21,
     "metadata": {},
     "output_type": "execute_result"
    }
   ],
   "source": [
    "range(4)"
   ]
  },
  {
   "cell_type": "markdown",
   "metadata": {},
   "source": [
    "(8) Write a program that accepts a comma separated sequence of words as input and prints the words in a comma-separated sequence after sorting them alphabetically. \n",
    "Suppose the following input is supplied to the program: \n",
    "without,hello,bag,world \n",
    "Then, the output should be: \n",
    "bag,hello,without,world \n",
    "\n",
    "Hints: \n",
    "In case of input data being supplied to the question, it should be assumed to be a console input. \n",
    "\n"
   ]
  },
  {
   "cell_type": "code",
   "execution_count": 2,
   "metadata": {
    "collapsed": false
   },
   "outputs": [
    {
     "name": "stdout",
     "output_type": "stream",
     "text": [
      "a,d,v,b,f,e,r,t,i\n",
      "None\n"
     ]
    },
    {
     "data": {
      "text/plain": [
       "['a', 'b', 'd', 'e', 'f', 'i', 'r', 't', 'v']"
      ]
     },
     "execution_count": 2,
     "metadata": {},
     "output_type": "execute_result"
    }
   ],
   "source": [
    "words = [w for w in raw_input().split(',')]\n",
    "print(words.sort())\n",
    "words\n",
    "\n"
   ]
  },
  {
   "cell_type": "markdown",
   "metadata": {
    "collapsed": true
   },
   "source": [
    "(9) Write a program that accepts sequence of lines as input and prints the lines after making all characters in the sentence capitalized. \n",
    " Suppose the following input is supplied to the program: \n",
    " Hello world \n",
    " Practice makes perfect \n",
    " Then, the output should be: \n",
    " HELLO WORLD \n",
    " PRACTICE MAKES PERFECT \n",
    " \n",
    " \n",
    " Hints: In case of input data being supplied to the question, it should be assumed to be a console input. \n"
   ]
  },
  {
   "cell_type": "code",
   "execution_count": 6,
   "metadata": {
    "collapsed": false
   },
   "outputs": [
    {
     "name": "stdout",
     "output_type": "stream",
     "text": [
      "Hi\n",
      "Hello\n",
      "\n",
      "HI\n",
      "HELLO\n"
     ]
    }
   ],
   "source": [
    "lines = []\n",
    "while True:\n",
    "    s = raw_input()\n",
    "    if s:\n",
    "        lines.append(s.upper())\n",
    "    else:\n",
    "        break;\n",
    "\n",
    "for r in lines:\n",
    "    print(r)"
   ]
  },
  {
   "cell_type": "markdown",
   "metadata": {},
   "source": [
    "(10) Write a program that accepts a sequence of whitespace separated words as input and prints the words after removing all duplicate words and sorting them alphanumerically. \n",
    " Suppose the following input is supplied to the program: \n",
    " hello world and practice makes perfect and hello world again \n",
    " Then, the output should be: \n",
    " again and hello makes perfect practice world \n",
    " \n",
    " \n",
    " Hints: \n",
    " In case of input data being supplied to the question, it should be assumed to be a console input. \n",
    " We use set container to remove duplicated data automatically and then use sorted() to sort the data. \n"
   ]
  },
  {
   "cell_type": "code",
   "execution_count": 9,
   "metadata": {
    "collapsed": false
   },
   "outputs": [
    {
     "name": "stdout",
     "output_type": "stream",
     "text": [
      "again and hello makes perfect practice world\n",
      "again and hello makes perfect practice world\n"
     ]
    }
   ],
   "source": [
    "words = [x for x in raw_input().split(\" \")]\n",
    "print \" \".join(sorted(list(set(words))))"
   ]
  },
  {
   "cell_type": "code",
   "execution_count": 16,
   "metadata": {
    "collapsed": false
   },
   "outputs": [
    {
     "name": "stdout",
     "output_type": "stream",
     "text": [
      "Hi Hello\n",
      "H i   H e l l o\n"
     ]
    }
   ],
   "source": [
    "print \" \".join(['Hi','Hello'])\n",
    "print \" \".join('Hi Hello')\n"
   ]
  },
  {
   "cell_type": "markdown",
   "metadata": {},
   "source": [
    "(11) Write a program which accepts a sequence of comma separated 4 digit binary numbers as its input and then check whether they are divisible by 5 or not. The numbers that are divisible by 5 are to be printed in a comma separated sequence. \n",
    "Example: \n",
    " 0100,0011,1010,1001 \n",
    " Then the output should be: \n",
    " 1010 \n",
    " Notes: Assume the data is input by console. \n",
    "\n",
    " Hints: In case of input data being supplied to the question, it should be assumed to be a console input. \n"
   ]
  },
  {
   "cell_type": "code",
   "execution_count": 29,
   "metadata": {
    "collapsed": false
   },
   "outputs": [
    {
     "name": "stdout",
     "output_type": "stream",
     "text": [
      "0100,0011,1010,1001\n",
      "1010\n"
     ]
    }
   ],
   "source": [
    "Binary = [int(x,2) for x in raw_input().split(',')]\n",
    "for i in Binary:\n",
    "    if i%5==0:\n",
    "        print(\"{0:b}\".format(i))"
   ]
  },
  {
   "cell_type": "code",
   "execution_count": 30,
   "metadata": {
    "collapsed": false
   },
   "outputs": [
    {
     "name": "stdout",
     "output_type": "stream",
     "text": [
      "0100,0011,1010,1001\n",
      "1010\n"
     ]
    }
   ],
   "source": [
    "values=[]\n",
    "items = [x for x in raw_input().split(',')]\n",
    "for x in items:\n",
    "    xb = int(x,2)\n",
    "    if xb%5==0:\n",
    "        values.append(x)\n",
    "\n",
    "print(\",\".join(values))\n"
   ]
  },
  {
   "cell_type": "markdown",
   "metadata": {
    "collapsed": true
   },
   "source": [
    "(12) Write a program, which will find all such numbers between 1000 and 3000 (both included) such that each digit of the number is an even number. The numbers obtained should be printed in a comma-separated sequence on a single line. \n",
    "\n",
    "Hints: In case of input data being supplied to the question, it should be assumed to be a console input"
   ]
  },
  {
   "cell_type": "code",
   "execution_count": 10,
   "metadata": {
    "collapsed": false
   },
   "outputs": [
    {
     "name": "stdout",
     "output_type": "stream",
     "text": [
      "1000,1002,1003,999,3000\n",
      "1000,1002,3000\n"
     ]
    }
   ],
   "source": [
    "values = []\n",
    "items = [x for x in raw_input().split(',')]\n",
    "\n",
    "for x in items:\n",
    "    if int(x) >=1000 or int(x) <=3001:\n",
    "        if int(x)%2==0:\n",
    "            values.append(x)       \n",
    "    \n",
    "print(\",\".join(values))"
   ]
  },
  {
   "cell_type": "markdown",
   "metadata": {
    "collapsed": false
   },
   "source": [
    "(13) Write a program that accepts a sentence and calculate the number of letters and digits. \n",
    "Suppose the following input is supplied to the program: \n",
    "hello world! 123 \n",
    "Then, the output should be: \n",
    "LETTERS 10 \n",
    "DIGITS 3 \n",
    "\n",
    " \n",
    "Hints: In case of input data being supplied to the question, it should be assumed to be a console input."
   ]
  },
  {
   "cell_type": "code",
   "execution_count": 14,
   "metadata": {
    "collapsed": false
   },
   "outputs": [
    {
     "name": "stdout",
     "output_type": "stream",
     "text": [
      "asdasd123asd123asd123asd123\n",
      "{'digits': 12, 'letters': 15}\n"
     ]
    }
   ],
   "source": [
    "values = []\n",
    "s = {\"digits\":0,\"letters\":0}\n",
    "for x in raw_input():\n",
    "    if x.isalpha():\n",
    "        s[\"letters\"]+=1\n",
    "    if x.isdigit():\n",
    "        s[\"digits\"]+=1\n",
    "\n",
    "print(s)"
   ]
  },
  {
   "cell_type": "markdown",
   "metadata": {},
   "source": [
    "(14) Write a program that accepts a sentence and calculate the number of upper case letters and lower case letters. \n",
    "Suppose the following input is supplied to the program: \n",
    "Hello world! \n",
    "Then, the output should be: \n",
    "UPPER CASE 1 \n",
    "LOWER CASE 9 \n",
    " \n",
    "Hints: In case of input data being supplied to the question, it should be assumed to be a console input."
   ]
  },
  {
   "cell_type": "code",
   "execution_count": 18,
   "metadata": {
    "collapsed": false
   },
   "outputs": [
    {
     "name": "stdout",
     "output_type": "stream",
     "text": [
      "asdSAD123ASDqwAS\n",
      "{'UPPER': 8, 'lower': 5}\n"
     ]
    }
   ],
   "source": [
    "s = {\"UPPER\":0, \"lower\":0}\n",
    "for x in raw_input():\n",
    "    if x.isalpha():\n",
    "        if x.isupper():\n",
    "            s[\"UPPER\"] +=1\n",
    "        if x.islower():\n",
    "            s[\"lower\"] +=1\n",
    "            \n",
    "print(s)"
   ]
  },
  {
   "cell_type": "markdown",
   "metadata": {},
   "source": [
    "(15) Write a program that computes the value of a+aa+aaa+aaaa with a given digit as the value of a. \n",
    "Suppose the following input is supplied to the program: \n",
    "9 \n",
    "Then, the output should be: 11106"
   ]
  },
  {
   "cell_type": "code",
   "execution_count": 21,
   "metadata": {
    "collapsed": false
   },
   "outputs": [
    {
     "name": "stdout",
     "output_type": "stream",
     "text": [
      "9\n",
      "11106\n"
     ]
    }
   ],
   "source": [
    "a = raw_input() \n",
    "n1 = int( \"%s\" %a ) \n",
    "n2 = int( \"%s%s\" % (a,a) ) \n",
    "n3 = int( \"%s%s%s\" % (a,a,a) ) \n",
    "n4 = int( \"%s%s%s%s\" % (a,a,a,a) ) \n",
    "print n1+n2+n3+n4 \n"
   ]
  },
  {
   "cell_type": "code",
   "execution_count": null,
   "metadata": {
    "collapsed": true
   },
   "outputs": [],
   "source": []
  }
 ],
 "metadata": {
  "anaconda-cloud": {},
  "kernelspec": {
   "display_name": "Python [default]",
   "language": "python",
   "name": "python2"
  },
  "language_info": {
   "codemirror_mode": {
    "name": "ipython",
    "version": 2
   },
   "file_extension": ".py",
   "mimetype": "text/x-python",
   "name": "python",
   "nbconvert_exporter": "python",
   "pygments_lexer": "ipython2",
   "version": "2.7.12"
  }
 },
 "nbformat": 4,
 "nbformat_minor": 2
}
